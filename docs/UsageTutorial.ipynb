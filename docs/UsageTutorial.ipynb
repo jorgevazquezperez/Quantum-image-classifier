{
 "cells": [
  {
   "cell_type": "code",
   "execution_count": 1,
   "id": "a3b3c098",
   "metadata": {},
   "outputs": [
    {
     "name": "stdout",
     "output_type": "stream",
     "text": [
      "Requirement already satisfied: quantum-image-classifier in c:\\users\\jorva\\appdata\\local\\programs\\python\\python310\\lib\\site-packages (0.1.7)\n",
      "Requirement already satisfied: sklearn in c:\\users\\jorva\\appdata\\local\\programs\\python\\python310\\lib\\site-packages (from quantum-image-classifier) (0.0)\n",
      "Requirement already satisfied: numpy>=1.22 in c:\\users\\jorva\\appdata\\local\\programs\\python\\python310\\lib\\site-packages (from quantum-image-classifier) (1.22.3)\n",
      "Requirement already satisfied: qiskit-terra>=0.20.0 in c:\\users\\jorva\\appdata\\local\\programs\\python\\python310\\lib\\site-packages (from quantum-image-classifier) (0.20.0)\n",
      "Requirement already satisfied: setuptools>=40.1.0 in c:\\users\\jorva\\appdata\\local\\programs\\python\\python310\\lib\\site-packages (from quantum-image-classifier) (58.1.0)\n",
      "Requirement already satisfied: python-dateutil>=2.8.0 in c:\\users\\jorva\\appdata\\local\\programs\\python\\python310\\lib\\site-packages (from qiskit-terra>=0.20.0->quantum-image-classifier) (2.8.2)\n",
      "Requirement already satisfied: ply>=3.10 in c:\\users\\jorva\\appdata\\local\\programs\\python\\python310\\lib\\site-packages (from qiskit-terra>=0.20.0->quantum-image-classifier) (3.11)\n",
      "Requirement already satisfied: sympy>=1.3 in c:\\users\\jorva\\appdata\\local\\programs\\python\\python310\\lib\\site-packages (from qiskit-terra>=0.20.0->quantum-image-classifier) (1.9)\n",
      "Requirement already satisfied: retworkx>=0.11.0 in c:\\users\\jorva\\appdata\\local\\programs\\python\\python310\\lib\\site-packages (from qiskit-terra>=0.20.0->quantum-image-classifier) (0.11.0)\n",
      "Requirement already satisfied: tweedledum<2.0,>=1.1 in c:\\users\\jorva\\appdata\\local\\programs\\python\\python310\\lib\\site-packages (from qiskit-terra>=0.20.0->quantum-image-classifier) (1.1.1)\n",
      "Requirement already satisfied: dill>=0.3 in c:\\users\\jorva\\appdata\\local\\programs\\python\\python310\\lib\\site-packages (from qiskit-terra>=0.20.0->quantum-image-classifier) (0.3.4)\n",
      "Requirement already satisfied: scipy>=1.5 in c:\\users\\jorva\\appdata\\local\\programs\\python\\python310\\lib\\site-packages (from qiskit-terra>=0.20.0->quantum-image-classifier) (1.8.0)\n",
      "Requirement already satisfied: stevedore>=3.0.0 in c:\\users\\jorva\\appdata\\local\\programs\\python\\python310\\lib\\site-packages (from qiskit-terra>=0.20.0->quantum-image-classifier) (3.5.0)\n",
      "Requirement already satisfied: python-constraint>=1.4 in c:\\users\\jorva\\appdata\\local\\programs\\python\\python310\\lib\\site-packages (from qiskit-terra>=0.20.0->quantum-image-classifier) (1.4.0)\n",
      "Requirement already satisfied: psutil>=5 in c:\\users\\jorva\\appdata\\local\\programs\\python\\python310\\lib\\site-packages (from qiskit-terra>=0.20.0->quantum-image-classifier) (5.9.0)\n",
      "Requirement already satisfied: scikit-learn in c:\\users\\jorva\\appdata\\local\\programs\\python\\python310\\lib\\site-packages (from sklearn->quantum-image-classifier) (1.0.2)\n",
      "Requirement already satisfied: six>=1.5 in c:\\users\\jorva\\appdata\\local\\programs\\python\\python310\\lib\\site-packages (from python-dateutil>=2.8.0->qiskit-terra>=0.20.0->quantum-image-classifier) (1.16.0)\n",
      "Requirement already satisfied: pbr!=2.1.0,>=2.0.0 in c:\\users\\jorva\\appdata\\local\\programs\\python\\python310\\lib\\site-packages (from stevedore>=3.0.0->qiskit-terra>=0.20.0->quantum-image-classifier) (5.8.1)\n",
      "Requirement already satisfied: mpmath>=0.19 in c:\\users\\jorva\\appdata\\local\\programs\\python\\python310\\lib\\site-packages (from sympy>=1.3->qiskit-terra>=0.20.0->quantum-image-classifier) (1.2.1)\n",
      "Requirement already satisfied: joblib>=0.11 in c:\\users\\jorva\\appdata\\local\\programs\\python\\python310\\lib\\site-packages (from scikit-learn->sklearn->quantum-image-classifier) (1.1.0)\n",
      "Requirement already satisfied: threadpoolctl>=2.0.0 in c:\\users\\jorva\\appdata\\local\\programs\\python\\python310\\lib\\site-packages (from scikit-learn->sklearn->quantum-image-classifier) (3.1.0)\n"
     ]
    }
   ],
   "source": [
    "import sys\n",
    "!{sys.executable} -m pip install quantum-image-classifier"
   ]
  },
  {
   "cell_type": "markdown",
   "id": "5e9fd4b1",
   "metadata": {},
   "source": [
    "# Quantum image classifier\n",
    "## Package usage\n",
    "\n",
    "If you want to use this package, first you will need to download ir from https://github.com/jorgevazquezperez/Quantum-image-classifier. After that, you can import it and start using it as every other package."
   ]
  },
  {
   "cell_type": "code",
   "execution_count": 2,
   "id": "e058265e",
   "metadata": {},
   "outputs": [],
   "source": [
    "import quantum_image_classifier"
   ]
  },
  {
   "cell_type": "markdown",
   "id": "b33dc822",
   "metadata": {},
   "source": [
    "## Features\n",
    "Here we will explain the several options that this package offers, in order to generate a template which you could use to try it yourself.\n",
    "\n",
    "### Data treatment\n",
    "You can obtain the data you want to test the algorithms in this section of the package. First of all, you can generate synthetic data by using the function `generate_synthetic_data` like we show you here."
   ]
  },
  {
   "cell_type": "code",
   "execution_count": 3,
   "id": "c6dbee5e",
   "metadata": {},
   "outputs": [],
   "source": [
    "from quantum_image_classifier import data_generator as dg\n",
    "\n",
    "n_dim = 8\n",
    "n_clusters = 4\n",
    "n_samples = 250\n",
    "\n",
    "train_X, train_y, test_X, test_y = dg.generate_synthetic_data(n_dim, n_clusters, n_samples)"
   ]
  },
  {
   "cell_type": "markdown",
   "id": "7c407a4c",
   "metadata": {},
   "source": [
    "Other option is to use a dataset of your own. To do this you need to be aware of a very important aspect of the nature of the quantum algorithms: **you can operate with a very limited number of qubits**. This means that, if you wish to classify an actual image, you need to preprocess it before applying the algorithms in order to reduce its dimensionality and be able to use the data (we recommend this to data with a dimension greater than 32). To do this you can use one of the three options we give you:\n",
    "\n",
    "1. **Use PCA.** You can use PCA method to achieve a dimension reduction. The only problem this method has is that you have to assume a linear relationship between the input and the output, so, if there is a non-linear relationship, you can generate non-accurate data.\n",
    "2. **Use autoencoders (AE).** You can use autoencoders in order to achieve a dimension reduction. This solves the non-linear cases, but increases the execution time, because you have to train a neural network.\n",
    "3. **Input your own preprocess method.** If you don't to use our methods, it's OK (before that I got to ask you: are you sure?). You can insert a custom function which will preprocess the data. ***COMPLETAR***"
   ]
  },
  {
   "cell_type": "code",
   "execution_count": null,
   "id": "b03e437e",
   "metadata": {},
   "outputs": [],
   "source": []
  },
  {
   "cell_type": "markdown",
   "id": "5c2a67b7",
   "metadata": {},
   "source": [
    "## Algorithms\n",
    "### Nearest centroid algorithm\n",
    "In order to use this algorithm, first we need to instance the class NearestCentroid. We can instance this class in two ways: either by giving the training set as an argument (along with the dimension and the labels associated to this dataset) or empty. In the first way, the class will auto"
   ]
  },
  {
   "cell_type": "code",
   "execution_count": 4,
   "id": "33e6417d",
   "metadata": {},
   "outputs": [
    {
     "name": "stdout",
     "output_type": "stream",
     "text": [
      "[3 1 3 2 2 2 2 1 1 3 2 3 2 1 1 2 1 2 2 3 0 1 1 3 0 1 0 2 1 2 3 0 3 1 1 2 1\n",
      " 1 0 3 2 1 0 3 0 3 0 3 0 3 0 0 1 2 0 1 2 2 0 1 2 2 0]\n",
      "[3 1 3 2 2 2 2 1 1 3 2 3 2 1 1 2 1 2 2 3 0 1 1 3 0 1 0 2 1 2 3 0 3 1 1 2 1\n",
      " 1 0 3 2 1 0 3 0 3 0 3 0 3 0 0 1 2 0 1 2 2 0 1 2 2 0]\n"
     ]
    }
   ],
   "source": [
    "from quantum_image_classifier import NearestCentroid\n",
    "\n",
    "nearest_centroid = NearestCentroid(train_X, train_y, n_dim)\n",
    "labels_predicted = nearest_centroid.predict(test_X)\n",
    "\n",
    "print(test_y)\n",
    "print(labels_predicted)"
   ]
  },
  {
   "cell_type": "code",
   "execution_count": null,
   "id": "21d1b330",
   "metadata": {},
   "outputs": [],
   "source": []
  },
  {
   "cell_type": "code",
   "execution_count": null,
   "id": "f698ecea",
   "metadata": {},
   "outputs": [],
   "source": []
  }
 ],
 "metadata": {
  "kernelspec": {
   "display_name": "Python 3 (ipykernel)",
   "language": "python",
   "name": "python3"
  },
  "language_info": {
   "codemirror_mode": {
    "name": "ipython",
    "version": 3
   },
   "file_extension": ".py",
   "mimetype": "text/x-python",
   "name": "python",
   "nbconvert_exporter": "python",
   "pygments_lexer": "ipython3",
   "version": "3.10.3"
  }
 },
 "nbformat": 4,
 "nbformat_minor": 5
}
