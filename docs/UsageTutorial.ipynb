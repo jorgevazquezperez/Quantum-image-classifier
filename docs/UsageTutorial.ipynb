{
 "cells": [
  {
   "cell_type": "code",
   "execution_count": 18,
   "id": "a3b3c098",
   "metadata": {},
   "outputs": [],
   "source": [
    "%%capture\n",
    "\n",
    "# NOT NEEDED IF YOU ARE IN BINDER\n",
    "import sys\n",
    "!{sys.executable} -m pip install quantum-image-classifier==1.0.0"
   ]
  },
  {
   "cell_type": "markdown",
   "id": "5e9fd4b1",
   "metadata": {},
   "source": [
    "# Quantum image classifier\n",
    "## Package usage\n",
    "\n",
    "If you want to use this package you can install it using `pip install quantum-image-classifier`, just as we did on the top of this notebook. After that, you can easily import it as any other package."
   ]
  },
  {
   "cell_type": "code",
   "execution_count": 2,
   "id": "e058265e",
   "metadata": {},
   "outputs": [],
   "source": [
    "import quantum_image_classifier"
   ]
  },
  {
   "cell_type": "markdown",
   "id": "b33dc822",
   "metadata": {},
   "source": [
    "## Features\n",
    "In this package you can do three things: treat data to feed into the algorithm, call a quantum algorithm to classify the data and visualize the accuracy or the points of the dataset. We see how in the next sections.\n",
    "\n",
    "### Data treatment\n",
    "You can obtain the data you want to test the algorithms in this section of the package. First of all, you can generate synthetic data by using the function `generate_synthetic_data` like we show you here."
   ]
  },
  {
   "cell_type": "code",
   "execution_count": 3,
   "id": "e68beed1",
   "metadata": {},
   "outputs": [],
   "source": [
    "from quantum_image_classifier import data_generator as dg\n",
    "\n",
    "n_dim = 8\n",
    "n_clusters = 2\n",
    "n_samples = 1000\n",
    "\n",
    "train_X_syn, train_y_syn, test_X_syn, test_y_syn = dg.generate_synthetic_data(n_dim, n_clusters, n_samples)"
   ]
  },
  {
   "cell_type": "markdown",
   "id": "7c407a4c",
   "metadata": {},
   "source": [
    "Other option is to use the MNIST dataset. To do this you need to be aware of a very important aspect of the nature of the quantum algorithms: **you can operate with a very limited number of qubits**. This means that, if you wish to classify an actual image, you need to preprocess it before applying the algorithms in order to reduce its dimensionality and be able to use the data (we recommend this to data with a dimension greater than 32). To do this to the MNIST dataset you can use one of the three options we give you:\n",
    "\n",
    "1. **Use PCA (PCA).** You can use PCA method to achieve a dimension reduction. The only problem this method has is that you have to assume a linear relationship between the input and the output, so, if there is a non-linear relationship, you can generate non-accurate data.\n",
    "2. **Use simple autoencoder (AE).** You can use a simple autoencoder in order to achieve a dimension reduction. This solves the non-linear cases, but increases the execution time, because you have to train a neural network.\n",
    "3. **Use autoencoder based on CNN (AE_CNN).** With this less simple implementation of the autoencoder you will achieve much more accuracy than with the simple autoencoder by trading time of execution and complexity.\n",
    "\n",
    "You have an example of how can you apply this preprocess to the data below, using the function `get_MNIST`."
   ]
  },
  {
   "cell_type": "code",
   "execution_count": null,
   "id": "b03e437e",
   "metadata": {},
   "outputs": [],
   "source": [
    "from quantum_image_classifier import data_loader as dl\n",
    "\n",
    "# It will take time to compute this operations.\n",
    "\n",
    "train_X_pca, train_y_pca, test_X_pca, test_y_pca = dl.get_MNIST(8, \"PCA\")\n",
    "print(\"PCA PREPROCESS\")\n",
    "print(train_X_pca[:10])\n",
    "\n",
    "train_X_ae, train_y_ae, test_X_ae, test_y_ae = dl.get_MNIST(8, \"AE\")\n",
    "print(\"SIMPLE AUTOENCODER PREPROCESS\")\n",
    "print(train_X_ae[:10])\n",
    "\n",
    "train_X_ae_cnn, train_y_ae_cnn, test_X_ae_cnn, test_y_ae_cnn = dl.get_MNIST(8, \"AE_CNN\")\n",
    "print(\"CNN AUTOENCODER PREPROCESS\")\n",
    "print(train_X_ae_cnn[:10])"
   ]
  },
  {
   "cell_type": "markdown",
   "id": "5c2a67b7",
   "metadata": {},
   "source": [
    "### Algorithms\n",
    "#### Nearest centroid algorithm\n",
    "In order to use this algorithm, first we need to instance the class NearestCentroid. We can instance this class in two ways: either by giving the training set as an argument (along with the dimension of the data points and the labels associated to this dataset) or empty. In the first way, we will need to send the dataset with the associated labels to the function `fit`."
   ]
  },
  {
   "cell_type": "code",
   "execution_count": 6,
   "id": "33e6417d",
   "metadata": {},
   "outputs": [
    {
     "name": "stdout",
     "output_type": "stream",
     "text": [
      "[0 1 1 0 1 0 1 0 1 0 1 0 0 1 1 1 1 1 1 1]\n",
      "[0 1 1 0 1 0 1 0 1 0 1 0 0 1 1 1 1 1 1 1]\n"
     ]
    }
   ],
   "source": [
    "from quantum_image_classifier import NearestCentroid\n",
    "\n",
    "# Empty instance\n",
    "nearest_centroid = NearestCentroid()\n",
    "nearest_centroid.fit(train_X_syn, train_y_syn, n_dim)\n",
    "labels_predicted = nearest_centroid.predict(test_X_syn)\n",
    "\n",
    "print(test_y_syn[:20])\n",
    "print(labels_predicted[:20])"
   ]
  },
  {
   "cell_type": "markdown",
   "id": "0af1c4c4",
   "metadata": {},
   "source": [
    "On the contrary, if we have already given the dataset with its associated labels on the construction, we just need to call fit wthout arguments. By the way, if you call here `fit` with arguments, then you will override the data of the construction, naturally."
   ]
  },
  {
   "cell_type": "code",
   "execution_count": 7,
   "id": "f698ecea",
   "metadata": {},
   "outputs": [
    {
     "name": "stdout",
     "output_type": "stream",
     "text": [
      "[0 1 1 0 1 0 1 0 1 0 1 0 0 1 1 1 1 1 1 1]\n",
      "[0 1 1 0 1 0 1 0 1 0 1 0 0 1 1 1 1 1 1 1]\n"
     ]
    }
   ],
   "source": [
    "# Instance with dataset and labels\n",
    "nearest_centroid = NearestCentroid(train_X_syn, train_y_syn, n_dim)\n",
    "nearest_centroid.fit()\n",
    "labels_predicted = nearest_centroid.predict(test_X_syn)\n",
    "\n",
    "print(test_y_syn[:20])\n",
    "print(labels_predicted[:20])"
   ]
  },
  {
   "cell_type": "markdown",
   "id": "8224b1e9",
   "metadata": {},
   "source": [
    "### Visual representation"
   ]
  },
  {
   "cell_type": "markdown",
   "id": "12f4e86f",
   "metadata": {},
   "source": [
    "In this package we also implement a module to visualize the accuracy of the methods, we just need to execute the nearest centroid algorithm as we did above and calculate the percetages of accuracy like we show below."
   ]
  },
  {
   "cell_type": "code",
   "execution_count": 8,
   "id": "2ff130b4",
   "metadata": {},
   "outputs": [
    {
     "data": {
      "image/png": "[encoded data removed]",
      "text/plain": [
       "<Figure size 432x288 with 1 Axes>"
      ]
     },
     "metadata": {
      "needs_background": "light"
     },
     "output_type": "display_data"
    }
   ],
   "source": [
    "from sklearn.neighbors import NearestCentroid as classicalNC\n",
    "from quantum_image_classifier import NearestCentroid as quantumNC\n",
    "\n",
    "from quantum_image_classifier import error_graph\n",
    "\n",
    "def _calc_accuracy(labels, predictions):\n",
    "    counts = 0\n",
    "    for label, prediction in zip(labels, predictions):\n",
    "        if prediction == label:\n",
    "            counts += 1\n",
    "    return counts / len(labels)\n",
    "\n",
    "quantum = quantumNC()\n",
    "quantum.fit(train_X_syn, train_y_syn, n_dim)\n",
    "labelsQ = quantum.predict(test_X_syn)\n",
    "\n",
    "classical = classicalNC()\n",
    "classical.fit(train_X_syn, train_y_syn)\n",
    "labelsC = classical.predict(test_X_syn)\n",
    "\n",
    "accuracyQ = _calc_accuracy(test_y_syn, labelsQ)\n",
    "accuracyC = _calc_accuracy(test_y_syn, labelsC)\n",
    "\n",
    "error_graph(\"./clasico_vs_cuantico_gen.png\",\n",
    "                 (\"NC clasico\", accuracyC), (\"NC cuantico\", accuracyQ))"
   ]
  },
  {
   "cell_type": "markdown",
   "id": "227cfb05",
   "metadata": {},
   "source": [
    "To complement this, due to the stochastic nature of the quantum algorithms, we have also created a function which shows the same as before, buf of several simulations, representing the average and the standard deviation of the result in order to get a real impression on which is the actual performance of the algorithm."
   ]
  },
  {
   "cell_type": "code",
   "execution_count": 10,
   "id": "5dfa035e",
   "metadata": {},
   "outputs": [
    {
     "name": "stderr",
     "output_type": "stream",
     "text": [
      "100%|████████████████████████████████████████████████████████████████████████████████████████████████████| 20/20 [00:44<00:00,  2.23s/it]\n"
     ]
    },
    {
     "data": {
      "image/png": "[encoded data removed]",
      "text/plain": [
       "<Figure size 432x288 with 1 Axes>"
      ]
     },
     "metadata": {
      "needs_background": "light"
     },
     "output_type": "display_data"
    }
   ],
   "source": [
    "from quantum_image_classifier import variance_error_graph\n",
    "from tqdm import tqdm\n",
    "\n",
    "accuracyQ = []\n",
    "accuracyC = []\n",
    "\n",
    "for _ in tqdm(range(20)):\n",
    "    quantum = quantumNC()\n",
    "    quantum.fit(train_X_syn, train_y_syn, n_dim)\n",
    "    labelsQ = quantum.predict(test_X_syn)\n",
    "\n",
    "    classical = classicalNC()\n",
    "    classical.fit(train_X_syn, train_y_syn)\n",
    "    labelsC = classical.predict(test_X_syn)\n",
    "\n",
    "    accuracyQ.append(_calc_accuracy(test_y_syn, labelsQ))\n",
    "    accuracyC.append(_calc_accuracy(test_y_syn, labelsC))\n",
    "    \n",
    "# The plot will be saved in the directory of the notebook with this name\n",
    "variance_error_graph(\"./clasico_vs_cuantico_gen.png\",\n",
    "                     (\"NC clasico\", accuracyC), (\"NC cuantico\", accuracyQ))"
   ]
  },
  {
   "cell_type": "markdown",
   "id": "dfc13699",
   "metadata": {},
   "source": [
    "On the other hand, we also have implemented a function to visualize a cloud point plot in case the dimension of the data points is equal to 2."
   ]
  },
  {
   "cell_type": "code",
   "execution_count": 11,
   "id": "681a6ace",
   "metadata": {},
   "outputs": [
    {
     "data": {
      "image/png": "[encoded data removed]",
      "text/plain": [
       "<Figure size 432x288 with 1 Axes>"
      ]
     },
     "metadata": {
      "needs_background": "light"
     },
     "output_type": "display_data"
    },
    {
     "data": {
      "text/plain": [
       "<Figure size 432x288 with 0 Axes>"
      ]
     },
     "metadata": {},
     "output_type": "display_data"
    }
   ],
   "source": [
    "from quantum_image_classifier import cloud_point\n",
    "\n",
    "n_clusters = 2\n",
    "cloud_point(train_X_syn, train_y_syn, \"./cloud_point_gen.png\", n_clusters)"
   ]
  },
  {
   "cell_type": "markdown",
   "id": "c57e2c7e",
   "metadata": {},
   "source": [
    "## Experiments"
   ]
  },
  {
   "cell_type": "markdown",
   "id": "31111779",
   "metadata": {},
   "source": [
    "This package is a result of a End of Degree project in which we tested the algorithm in different ways. First, we showed how well we were estimating the distance using the synthetic data and the real data. Second, we tested the quantum nearest centroid against its classical version by measuring its accuracy through a certain number of iterations and using, again, both the real data from MNIST and the synthetic data. Third, and last, we also showed how the reduction methods and the number of clusters affected the classffication task, once again, taking both types of data into consideration."
   ]
  },
  {
   "cell_type": "code",
   "execution_count": 16,
   "id": "0a560376",
   "metadata": {},
   "outputs": [
    {
     "data": {
      "image/png": "[encoded data removed]",
      "text/plain": [
       "<Figure size 432x288 with 1 Axes>"
      ]
     },
     "metadata": {
      "needs_background": "light"
     },
     "output_type": "display_data"
    },
    {
     "data": {
      "image/png": "[encoded data removed]",
      "text/plain": [
       "<Figure size 432x288 with 1 Axes>"
      ]
     },
     "metadata": {
      "needs_background": "light"
     },
     "output_type": "display_data"
    },
    {
     "name": "stdout",
     "output_type": "stream",
     "text": [
      "Generado: MEDIA 12.99390059455511 DIFERENCIA 0.026818417428144024\n",
      "MNIST: MEDIA 13.352860415396032 DIFERENCIA 0.11142364457760548\n"
     ]
    },
    {
     "data": {
      "text/plain": [
       "<Figure size 432x288 with 0 Axes>"
      ]
     },
     "metadata": {},
     "output_type": "display_data"
    }
   ],
   "source": [
    "from quantum_image_classifier import data_generator, data_loader\n",
    "import numpy as np\n",
    "\n",
    "# TEST OF QUANTUM DISTANCE WITH CLOUD POINT PLOT\n",
    "def distanceComparison():\n",
    "    n_dim = 2\n",
    "    n_clusters = 4\n",
    "    train_X, train_y, test_X, test_y = data_generator.generate_synthetic_data(\n",
    "        n_dim, n_clusters, 1000)\n",
    "    cloud_point(train_X, train_y, \"./cloud_point_gen.png\", n_clusters)\n",
    "\n",
    "    quantum = quantumNC()\n",
    "    quantum.fit(train_X, train_y, n_dim)\n",
    "    labels, differenceGen, distanceGen = quantum.predict(test_X, test_distance=True)\n",
    "\n",
    "    train_X, train_y, test_X, test_y = data_loader.get_MNIST(n_dim, \"PCA\", [0,1])\n",
    "    cloud_point(train_X, train_y, \"./could_point_MNIST.png\", n_clusters)\n",
    "\n",
    "    quantum = quantumNC()\n",
    "    quantum.fit(train_X, train_y, n_dim)\n",
    "    labels, differenceMNIST, distanceMNIST = quantum.predict(test_X, test_distance=True)\n",
    "\n",
    "    print(\"Generado: MEDIA {} DIFERENCIA {}\".format(np.mean(distanceGen), np.mean(np.absolute(differenceGen))))\n",
    "    print(\"MNIST: MEDIA {} DIFERENCIA {}\".format(np.mean(distanceMNIST), np.mean(np.absolute(differenceMNIST))))\n",
    "\n",
    "distanceComparison()"
   ]
  },
  {
   "cell_type": "code",
   "execution_count": 13,
   "id": "86a67dff",
   "metadata": {},
   "outputs": [
    {
     "name": "stderr",
     "output_type": "stream",
     "text": [
      "100%|██████████████████████████████████████████████████████████████████████████████████████████████████████| 5/5 [00:11<00:00,  2.25s/it]\n"
     ]
    },
    {
     "data": {
      "image/png": "[encoded data removed]",
      "text/plain": [
       "<Figure size 432x288 with 1 Axes>"
      ]
     },
     "metadata": {
      "needs_background": "light"
     },
     "output_type": "display_data"
    }
   ],
   "source": [
    "# COMPARISON BETWEEN CLASSIC AND QUANTUM PERFORMANCE WITH SYNTHETIC DATA\n",
    "def quantumVSclasico_gen(iterations):\n",
    "    n_dim = 8\n",
    "    n_clusters = 2\n",
    "    accuracyQ = []\n",
    "    accuracyC = []\n",
    "\n",
    "    for _ in tqdm(range(iterations)):\n",
    "        train_X, train_y, test_X, test_y = data_generator.generate_synthetic_data(\n",
    "            n_dim, n_clusters, 1000)\n",
    "\n",
    "        quantum = quantumNC()\n",
    "        quantum.fit(train_X, train_y, n_dim)\n",
    "        labelsQ = quantum.predict(test_X)\n",
    "\n",
    "        classical = classicalNC()\n",
    "        classical.fit(train_X, train_y)\n",
    "        labelsC = classical.predict(test_X)\n",
    "\n",
    "        accuracyQ.append(_calc_accuracy(test_y, labelsQ))\n",
    "        accuracyC.append(_calc_accuracy(test_y, labelsC))\n",
    "\n",
    "    variance_error_graph(\"./clasico_vs_cuantico_gen.png\",\n",
    "                         (\"NC clasico\", accuracyC), (\"NC cuantico\", accuracyQ))\n",
    "quantumVSclasico_gen(5)"
   ]
  },
  {
   "cell_type": "code",
   "execution_count": 14,
   "id": "f6f16a66",
   "metadata": {},
   "outputs": [
    {
     "name": "stderr",
     "output_type": "stream",
     "text": [
      "100%|██████████████████████████████████████████████████████████████████████████████████████████████████████| 5/5 [07:29<00:00, 89.99s/it]\n"
     ]
    },
    {
     "data": {
      "image/png": "[encoded data removed]",
      "text/plain": [
       "<Figure size 432x288 with 1 Axes>"
      ]
     },
     "metadata": {
      "needs_background": "light"
     },
     "output_type": "display_data"
    }
   ],
   "source": [
    "# COMPARISON BETWEEN CLASSIC AND QUANTUM PERFORMANCE WITH MNIST DATA\n",
    "def quantumVSclassic_MNIST(iterations):\n",
    "    n_dim = 8\n",
    "    n_clusters = 2\n",
    "    accuracyQ = []\n",
    "    accuracyC = []\n",
    "\n",
    "    for _ in tqdm(range(iterations)):\n",
    "        train_X, train_y, test_X, test_y = data_loader.get_MNIST(n_dim, \"PCA\", [\n",
    "                                                                 1, 0, 6, 9])\n",
    "\n",
    "        quantum = quantumNC()\n",
    "        quantum.fit(train_X, train_y, n_dim)\n",
    "        labelsQ = quantum.predict(test_X)\n",
    "\n",
    "        classical = classicalNC()\n",
    "        classical.fit(train_X, train_y)\n",
    "        labelsC = classical.predict(test_X)\n",
    "\n",
    "        accuracyQ.append(_calc_accuracy(test_y, labelsQ))\n",
    "        accuracyC.append(_calc_accuracy(test_y, labelsC))\n",
    "\n",
    "    variance_error_graph(\"./clasico_vs_cuantico_MNIST.png\",\n",
    "                         (\"NC clasico\", accuracyC), (\"NC cuantico\", accuracyQ))\n",
    "quantumVSclassic_MNIST(5)"
   ]
  },
  {
   "cell_type": "code",
   "execution_count": 15,
   "id": "00ea9c20",
   "metadata": {},
   "outputs": [
    {
     "name": "stderr",
     "output_type": "stream",
     "text": [
      "100%|█████████████████████████████████████████████████████████████████████████████████████████████████████| 5/5 [29:04<00:00, 348.99s/it]\n"
     ]
    },
    {
     "data": {
      "image/png": "[encoded data removed]",
      "text/plain": [
       "<Figure size 432x288 with 1 Axes>"
      ]
     },
     "metadata": {
      "needs_background": "light"
     },
     "output_type": "display_data"
    }
   ],
   "source": [
    "# COMPARISON BETWEEN NUMBER OF CLUSTERS\n",
    "def numClustersAccuracy(iterations):\n",
    "    n_dim = 8\n",
    "    accuracy2 = []\n",
    "    accuracy4 = []\n",
    "    accuracy6 = []\n",
    "\n",
    "    for _ in tqdm(range(iterations)):\n",
    "        train_X, train_y, test_X, test_y = data_loader.get_MNIST(n_dim, \"PCA\", [\n",
    "                                                                 1, 0])\n",
    "        quantum = quantumNC()\n",
    "        quantum.fit(train_X, train_y, n_dim)\n",
    "        accuracy2.append(_calc_accuracy(test_y, quantum.predict(test_X)))\n",
    "\n",
    "        train_X, train_y, test_X, test_y = data_loader.get_MNIST(n_dim, \"PCA\", [\n",
    "                                                                 1, 0, 6, 9])\n",
    "        quantum = quantumNC()\n",
    "        quantum.fit(train_X, train_y, n_dim)\n",
    "        accuracy4.append(_calc_accuracy(test_y, quantum.predict(test_X)))\n",
    "\n",
    "        train_X, train_y, test_X, test_y = data_loader.get_MNIST(\n",
    "            n_dim, \"PCA\", [1, 0, 4, 5, 6, 9])\n",
    "        quantum = quantumNC()\n",
    "        quantum.fit(train_X, train_y, n_dim)\n",
    "        accuracy6.append(_calc_accuracy(test_y, quantum.predict(test_X)))\n",
    "\n",
    "    variance_error_graph(\"./clusters_accuracy.png\",\n",
    "                         (\"2 clusters\", accuracy2), (\"4 clusters\", accuracy4), (\"6 clusters\", accuracy6))\n",
    "    \n",
    "numClustersAccuracy(5)"
   ]
  },
  {
   "cell_type": "code",
   "execution_count": 17,
   "id": "accabcda",
   "metadata": {},
   "outputs": [
    {
     "name": "stderr",
     "output_type": "stream",
     "text": [
      "\r\n",
      "  0%|                                                                                                              | 0/5 [00:00<?, ?it/s]"
     ]
    },
    {
     "name": "stdout",
     "output_type": "stream",
     "text": [
      "Epoch 1/20\n",
      "96/96 [==============================] - 2s 10ms/step - loss: 0.4310 - val_loss: 0.2619\n",
      "Epoch 2/20\n",
      "96/96 [==============================] - 1s 8ms/step - loss: 0.2375 - val_loss: 0.2207\n",
      "Epoch 3/20\n",
      "96/96 [==============================] - 1s 8ms/step - loss: 0.2110 - val_loss: 0.2003\n",
      "Epoch 4/20\n",
      "96/96 [==============================] - 1s 8ms/step - loss: 0.1922 - val_loss: 0.1830\n",
      "Epoch 5/20\n",
      "96/96 [==============================] - 1s 8ms/step - loss: 0.1772 - val_loss: 0.1706\n",
      "Epoch 6/20\n",
      "96/96 [==============================] - 1s 8ms/step - loss: 0.1670 - val_loss: 0.1625\n",
      "Epoch 7/20\n",
      "96/96 [==============================] - 1s 8ms/step - loss: 0.1604 - val_loss: 0.1572\n",
      "Epoch 8/20\n",
      "96/96 [==============================] - 1s 8ms/step - loss: 0.1561 - val_loss: 0.1537\n",
      "Epoch 9/20\n",
      "96/96 [==============================] - 1s 8ms/step - loss: 0.1529 - val_loss: 0.1508\n",
      "Epoch 10/20\n",
      "96/96 [==============================] - 1s 8ms/step - loss: 0.1503 - val_loss: 0.1484\n",
      "Epoch 11/20\n",
      "96/96 [==============================] - 1s 7ms/step - loss: 0.1482 - val_loss: 0.1466\n",
      "Epoch 12/20\n",
      "96/96 [==============================] - 1s 7ms/step - loss: 0.1466 - val_loss: 0.1454\n",
      "Epoch 13/20\n",
      "96/96 [==============================] - 1s 8ms/step - loss: 0.1454 - val_loss: 0.1443\n",
      "Epoch 14/20\n",
      "96/96 [==============================] - 1s 8ms/step - loss: 0.1444 - val_loss: 0.1434\n",
      "Epoch 15/20\n",
      "96/96 [==============================] - 1s 8ms/step - loss: 0.1436 - val_loss: 0.1427\n",
      "Epoch 16/20\n",
      "96/96 [==============================] - 1s 8ms/step - loss: 0.1429 - val_loss: 0.1421\n",
      "Epoch 17/20\n",
      "96/96 [==============================] - 1s 8ms/step - loss: 0.1422 - val_loss: 0.1415\n",
      "Epoch 18/20\n",
      "96/96 [==============================] - 1s 7ms/step - loss: 0.1416 - val_loss: 0.1409\n",
      "Epoch 19/20\n",
      "96/96 [==============================] - 1s 8ms/step - loss: 0.1411 - val_loss: 0.1404\n",
      "Epoch 20/20\n",
      "96/96 [==============================] - 1s 8ms/step - loss: 0.1406 - val_loss: 0.1399\n",
      "767/767 [==============================] - 1s 1ms/step\n",
      "128/128 [==============================] - 0s 1ms/step\n",
      "Epoch 1/8\n",
      "192/192 [==============================] - 45s 227ms/step - loss: 0.2621 - val_loss: 0.1519\n",
      "Epoch 2/8\n",
      "192/192 [==============================] - 244s 1s/step - loss: 0.1372 - val_loss: 0.1263\n",
      "Epoch 3/8\n",
      "192/192 [==============================] - 43s 223ms/step - loss: 0.1237 - val_loss: 0.1204\n",
      "Epoch 4/8\n",
      "192/192 [==============================] - 47s 247ms/step - loss: 0.1191 - val_loss: 0.1174\n",
      "Epoch 5/8\n",
      "192/192 [==============================] - 46s 240ms/step - loss: 0.1166 - val_loss: 0.1148\n",
      "Epoch 6/8\n",
      "192/192 [==============================] - 41s 214ms/step - loss: 0.1147 - val_loss: 0.1132\n",
      "Epoch 7/8\n",
      "192/192 [==============================] - 42s 221ms/step - loss: 0.1133 - val_loss: 0.1125\n",
      "Epoch 8/8\n",
      "192/192 [==============================] - 45s 234ms/step - loss: 0.1122 - val_loss: 0.1114\n",
      "767/767 [==============================] - 5s 7ms/step\n",
      "128/128 [==============================] - 1s 6ms/step\n"
     ]
    },
    {
     "name": "stderr",
     "output_type": "stream",
     "text": [
      "\r\n",
      " 20%|███████████████████▌                                                                              | 1/5 [17:02<1:08:08, 1022.05s/it]"
     ]
    },
    {
     "name": "stdout",
     "output_type": "stream",
     "text": [
      "Epoch 1/20\n",
      "96/96 [==============================] - 1s 8ms/step - loss: 0.4567 - val_loss: 0.2704\n",
      "Epoch 2/20\n",
      "96/96 [==============================] - 1s 7ms/step - loss: 0.2391 - val_loss: 0.2200\n",
      "Epoch 3/20\n",
      "96/96 [==============================] - 1s 7ms/step - loss: 0.2084 - val_loss: 0.1969\n",
      "Epoch 4/20\n",
      "96/96 [==============================] - 1s 7ms/step - loss: 0.1897 - val_loss: 0.1825\n",
      "Epoch 5/20\n",
      "96/96 [==============================] - 1s 7ms/step - loss: 0.1771 - val_loss: 0.1718\n",
      "Epoch 6/20\n",
      "96/96 [==============================] - 1s 7ms/step - loss: 0.1679 - val_loss: 0.1640\n",
      "Epoch 7/20\n",
      "96/96 [==============================] - 1s 7ms/step - loss: 0.1608 - val_loss: 0.1579\n",
      "Epoch 8/20\n",
      "96/96 [==============================] - 1s 7ms/step - loss: 0.1557 - val_loss: 0.1536\n",
      "Epoch 9/20\n",
      "96/96 [==============================] - 1s 7ms/step - loss: 0.1523 - val_loss: 0.1507\n",
      "Epoch 10/20\n",
      "96/96 [==============================] - 1s 7ms/step - loss: 0.1498 - val_loss: 0.1486\n",
      "Epoch 11/20\n",
      "96/96 [==============================] - 1s 7ms/step - loss: 0.1480 - val_loss: 0.1472\n",
      "Epoch 12/20\n",
      "96/96 [==============================] - 1s 7ms/step - loss: 0.1467 - val_loss: 0.1459\n",
      "Epoch 13/20\n",
      "96/96 [==============================] - 1s 7ms/step - loss: 0.1456 - val_loss: 0.1449\n",
      "Epoch 14/20\n",
      "96/96 [==============================] - 1s 7ms/step - loss: 0.1448 - val_loss: 0.1442\n",
      "Epoch 15/20\n",
      "96/96 [==============================] - 1s 7ms/step - loss: 0.1440 - val_loss: 0.1436\n",
      "Epoch 16/20\n",
      "96/96 [==============================] - 1s 7ms/step - loss: 0.1434 - val_loss: 0.1429\n",
      "Epoch 17/20\n",
      "96/96 [==============================] - 1s 7ms/step - loss: 0.1428 - val_loss: 0.1424\n",
      "Epoch 18/20\n",
      "96/96 [==============================] - 1s 8ms/step - loss: 0.1423 - val_loss: 0.1420\n",
      "Epoch 19/20\n",
      "96/96 [==============================] - 1s 8ms/step - loss: 0.1418 - val_loss: 0.1414\n",
      "Epoch 20/20\n",
      "96/96 [==============================] - 1s 8ms/step - loss: 0.1413 - val_loss: 0.1410\n",
      "767/767 [==============================] - 1s 1ms/step\n",
      "128/128 [==============================] - 0s 1ms/step\n",
      "Epoch 1/8\n",
      "192/192 [==============================] - 31s 157ms/step - loss: 0.2658 - val_loss: 0.1572\n",
      "Epoch 2/8\n",
      "192/192 [==============================] - 29s 150ms/step - loss: 0.1412 - val_loss: 0.1319\n",
      "Epoch 3/8\n",
      "192/192 [==============================] - 34s 175ms/step - loss: 0.1286 - val_loss: 0.1246\n",
      "Epoch 4/8\n",
      "192/192 [==============================] - 41s 213ms/step - loss: 0.1225 - val_loss: 0.1192\n",
      "Epoch 5/8\n",
      "192/192 [==============================] - 42s 220ms/step - loss: 0.1182 - val_loss: 0.1159\n",
      "Epoch 6/8\n",
      "192/192 [==============================] - 40s 206ms/step - loss: 0.1158 - val_loss: 0.1143\n",
      "Epoch 7/8\n",
      "192/192 [==============================] - 39s 204ms/step - loss: 0.1140 - val_loss: 0.1121\n",
      "Epoch 8/8\n",
      "192/192 [==============================] - 36s 190ms/step - loss: 0.1126 - val_loss: 0.1114\n",
      "767/767 [==============================] - 5s 7ms/step\n",
      "128/128 [==============================] - 1s 6ms/step\n"
     ]
    },
    {
     "name": "stderr",
     "output_type": "stream",
     "text": [
      "\r\n",
      " 40%|████████████████████████████████████████▍                                                            | 2/5 [26:53<38:25, 768.56s/it]"
     ]
    },
    {
     "name": "stdout",
     "output_type": "stream",
     "text": [
      "Epoch 1/20\n",
      "96/96 [==============================] - 1s 7ms/step - loss: 0.4458 - val_loss: 0.2753\n",
      "Epoch 2/20\n",
      "96/96 [==============================] - 1s 6ms/step - loss: 0.2503 - val_loss: 0.2292\n",
      "Epoch 3/20\n",
      "96/96 [==============================] - 1s 6ms/step - loss: 0.2181 - val_loss: 0.2063\n",
      "Epoch 4/20\n",
      "96/96 [==============================] - 1s 6ms/step - loss: 0.1992 - val_loss: 0.1912\n",
      "Epoch 5/20\n",
      "96/96 [==============================] - 1s 6ms/step - loss: 0.1869 - val_loss: 0.1808\n",
      "Epoch 6/20\n",
      "96/96 [==============================] - 1s 6ms/step - loss: 0.1780 - val_loss: 0.1737\n",
      "Epoch 7/20\n",
      "96/96 [==============================] - 1s 6ms/step - loss: 0.1714 - val_loss: 0.1679\n",
      "Epoch 8/20\n",
      "96/96 [==============================] - 1s 6ms/step - loss: 0.1658 - val_loss: 0.1608\n",
      "Epoch 9/20\n",
      "96/96 [==============================] - 1s 6ms/step - loss: 0.1577 - val_loss: 0.1548\n",
      "Epoch 10/20\n",
      "96/96 [==============================] - 1s 6ms/step - loss: 0.1537 - val_loss: 0.1518\n",
      "Epoch 11/20\n",
      "96/96 [==============================] - 1s 6ms/step - loss: 0.1510 - val_loss: 0.1494\n",
      "Epoch 12/20\n",
      "96/96 [==============================] - 1s 7ms/step - loss: 0.1488 - val_loss: 0.1474\n",
      "Epoch 13/20\n",
      "96/96 [==============================] - 1s 7ms/step - loss: 0.1471 - val_loss: 0.1459\n",
      "Epoch 14/20\n",
      "96/96 [==============================] - 1s 7ms/step - loss: 0.1458 - val_loss: 0.1449\n",
      "Epoch 15/20\n",
      "96/96 [==============================] - 1s 6ms/step - loss: 0.1448 - val_loss: 0.1439\n",
      "Epoch 16/20\n",
      "96/96 [==============================] - 1s 6ms/step - loss: 0.1440 - val_loss: 0.1432\n",
      "Epoch 17/20\n",
      "96/96 [==============================] - 1s 6ms/step - loss: 0.1433 - val_loss: 0.1426\n",
      "Epoch 18/20\n",
      "96/96 [==============================] - 1s 6ms/step - loss: 0.1427 - val_loss: 0.1419\n",
      "Epoch 19/20\n",
      "96/96 [==============================] - 1s 6ms/step - loss: 0.1421 - val_loss: 0.1414\n",
      "Epoch 20/20\n",
      "96/96 [==============================] - 1s 6ms/step - loss: 0.1415 - val_loss: 0.1409\n",
      "767/767 [==============================] - 1s 1ms/step\n",
      "128/128 [==============================] - 0s 1ms/step\n",
      "Epoch 1/8\n",
      "192/192 [==============================] - 32s 164ms/step - loss: 0.2633 - val_loss: 0.1496\n",
      "Epoch 2/8\n",
      "192/192 [==============================] - 42s 220ms/step - loss: 0.1342 - val_loss: 0.1239\n",
      "Epoch 3/8\n",
      "192/192 [==============================] - 3609s 19s/step - loss: 0.1197 - val_loss: 0.1147\n",
      "Epoch 4/8\n",
      "192/192 [==============================] - 34s 177ms/step - loss: 0.1139 - val_loss: 0.1119\n",
      "Epoch 5/8\n",
      "192/192 [==============================] - 33s 170ms/step - loss: 0.1106 - val_loss: 0.1086\n",
      "Epoch 6/8\n",
      "192/192 [==============================] - 32s 167ms/step - loss: 0.1085 - val_loss: 0.1070\n",
      "Epoch 7/8\n",
      "192/192 [==============================] - 32s 167ms/step - loss: 0.1069 - val_loss: 0.1051\n",
      "Epoch 8/8\n",
      "192/192 [==============================] - 31s 160ms/step - loss: 0.1057 - val_loss: 0.1045\n",
      "767/767 [==============================] - 5s 6ms/step\n",
      "128/128 [==============================] - 1s 6ms/step\n"
     ]
    },
    {
     "name": "stderr",
     "output_type": "stream",
     "text": [
      "\r\n",
      " 60%|█████████████████████████████████████████████████████████▌                                      | 3/5 [1:35:51<1:16:54, 2307.30s/it]"
     ]
    },
    {
     "name": "stdout",
     "output_type": "stream",
     "text": [
      "Epoch 1/20\n",
      "96/96 [==============================] - 1s 8ms/step - loss: 0.4419 - val_loss: 0.2754\n",
      "Epoch 2/20\n",
      "96/96 [==============================] - 1s 6ms/step - loss: 0.2489 - val_loss: 0.2265\n",
      "Epoch 3/20\n",
      "96/96 [==============================] - 1s 6ms/step - loss: 0.2151 - val_loss: 0.2048\n",
      "Epoch 4/20\n",
      "96/96 [==============================] - 1s 6ms/step - loss: 0.1950 - val_loss: 0.1862\n",
      "Epoch 5/20\n",
      "96/96 [==============================] - 1s 7ms/step - loss: 0.1792 - val_loss: 0.1730\n",
      "Epoch 6/20\n",
      "96/96 [==============================] - 1s 7ms/step - loss: 0.1687 - val_loss: 0.1652\n",
      "Epoch 7/20\n",
      "96/96 [==============================] - 1s 7ms/step - loss: 0.1627 - val_loss: 0.1604\n",
      "Epoch 8/20\n",
      "96/96 [==============================] - 1s 7ms/step - loss: 0.1585 - val_loss: 0.1567\n",
      "Epoch 9/20\n",
      "96/96 [==============================] - 1s 7ms/step - loss: 0.1552 - val_loss: 0.1537\n",
      "Epoch 10/20\n",
      "96/96 [==============================] - 1s 6ms/step - loss: 0.1525 - val_loss: 0.1514\n",
      "Epoch 11/20\n",
      "96/96 [==============================] - 1s 6ms/step - loss: 0.1505 - val_loss: 0.1495\n",
      "Epoch 12/20\n",
      "96/96 [==============================] - 1s 6ms/step - loss: 0.1489 - val_loss: 0.1481\n",
      "Epoch 13/20\n",
      "96/96 [==============================] - 1s 6ms/step - loss: 0.1475 - val_loss: 0.1467\n",
      "Epoch 14/20\n",
      "96/96 [==============================] - 1s 6ms/step - loss: 0.1462 - val_loss: 0.1454\n",
      "Epoch 15/20\n",
      "96/96 [==============================] - 1s 6ms/step - loss: 0.1451 - val_loss: 0.1444\n",
      "Epoch 16/20\n",
      "96/96 [==============================] - 1s 7ms/step - loss: 0.1441 - val_loss: 0.1434\n",
      "Epoch 17/20\n",
      "96/96 [==============================] - 1s 6ms/step - loss: 0.1432 - val_loss: 0.1425\n",
      "Epoch 18/20\n",
      "96/96 [==============================] - 1s 6ms/step - loss: 0.1424 - val_loss: 0.1417\n",
      "Epoch 19/20\n",
      "96/96 [==============================] - 1s 6ms/step - loss: 0.1417 - val_loss: 0.1411\n",
      "Epoch 20/20\n",
      "96/96 [==============================] - 1s 6ms/step - loss: 0.1411 - val_loss: 0.1405\n",
      "767/767 [==============================] - 1s 1ms/step\n",
      "128/128 [==============================] - 0s 1ms/step\n",
      "Epoch 1/8\n",
      "192/192 [==============================] - 36s 180ms/step - loss: 0.2662 - val_loss: 0.1502\n",
      "Epoch 2/8\n",
      "192/192 [==============================] - 31s 162ms/step - loss: 0.1370 - val_loss: 0.1292\n",
      "Epoch 3/8\n",
      "192/192 [==============================] - 32s 165ms/step - loss: 0.1233 - val_loss: 0.1184\n",
      "Epoch 4/8\n",
      "192/192 [==============================] - 34s 177ms/step - loss: 0.1159 - val_loss: 0.1124\n",
      "Epoch 5/8\n",
      "192/192 [==============================] - 34s 178ms/step - loss: 0.1121 - val_loss: 0.1095\n",
      "Epoch 6/8\n",
      "192/192 [==============================] - 34s 177ms/step - loss: 0.1097 - val_loss: 0.1077\n",
      "Epoch 7/8\n",
      "192/192 [==============================] - 36s 189ms/step - loss: 0.1079 - val_loss: 0.1060\n",
      "Epoch 8/8\n",
      "192/192 [==============================] - 40s 207ms/step - loss: 0.1062 - val_loss: 0.1056\n",
      "767/767 [==============================] - 5s 6ms/step\n",
      "128/128 [==============================] - 1s 6ms/step\n"
     ]
    },
    {
     "name": "stderr",
     "output_type": "stream",
     "text": [
      "\r\n",
      " 80%|██████████████████████████████████████████████████████████████████████████████▍                   | 4/5 [1:45:42<27:09, 1629.68s/it]"
     ]
    },
    {
     "name": "stdout",
     "output_type": "stream",
     "text": [
      "Epoch 1/20\n",
      "96/96 [==============================] - 1s 9ms/step - loss: 0.4443 - val_loss: 0.2674\n",
      "Epoch 2/20\n",
      "96/96 [==============================] - 1s 7ms/step - loss: 0.2415 - val_loss: 0.2234\n",
      "Epoch 3/20\n",
      "96/96 [==============================] - 1s 7ms/step - loss: 0.2120 - val_loss: 0.1993\n",
      "Epoch 4/20\n",
      "96/96 [==============================] - 1s 7ms/step - loss: 0.1898 - val_loss: 0.1802\n",
      "Epoch 5/20\n",
      "96/96 [==============================] - 1s 7ms/step - loss: 0.1743 - val_loss: 0.1689\n",
      "Epoch 6/20\n",
      "96/96 [==============================] - 1s 7ms/step - loss: 0.1661 - val_loss: 0.1630\n",
      "Epoch 7/20\n",
      "96/96 [==============================] - 1s 7ms/step - loss: 0.1611 - val_loss: 0.1586\n",
      "Epoch 8/20\n",
      "96/96 [==============================] - 1s 7ms/step - loss: 0.1571 - val_loss: 0.1550\n",
      "Epoch 9/20\n",
      "96/96 [==============================] - 1s 7ms/step - loss: 0.1542 - val_loss: 0.1526\n",
      "Epoch 10/20\n",
      "96/96 [==============================] - 1s 7ms/step - loss: 0.1520 - val_loss: 0.1507\n",
      "Epoch 11/20\n",
      "96/96 [==============================] - 1s 7ms/step - loss: 0.1501 - val_loss: 0.1489\n",
      "Epoch 12/20\n",
      "96/96 [==============================] - 1s 7ms/step - loss: 0.1483 - val_loss: 0.1473\n",
      "Epoch 13/20\n",
      "96/96 [==============================] - 1s 7ms/step - loss: 0.1467 - val_loss: 0.1459\n",
      "Epoch 14/20\n",
      "96/96 [==============================] - 1s 7ms/step - loss: 0.1455 - val_loss: 0.1449\n",
      "Epoch 15/20\n",
      "96/96 [==============================] - 1s 7ms/step - loss: 0.1446 - val_loss: 0.1440\n",
      "Epoch 16/20\n",
      "96/96 [==============================] - 1s 7ms/step - loss: 0.1438 - val_loss: 0.1434\n",
      "Epoch 17/20\n",
      "96/96 [==============================] - 1s 7ms/step - loss: 0.1431 - val_loss: 0.1427\n",
      "Epoch 18/20\n",
      "96/96 [==============================] - 1s 7ms/step - loss: 0.1425 - val_loss: 0.1422\n",
      "Epoch 19/20\n",
      "96/96 [==============================] - 1s 7ms/step - loss: 0.1420 - val_loss: 0.1417\n",
      "Epoch 20/20\n",
      "96/96 [==============================] - 1s 7ms/step - loss: 0.1415 - val_loss: 0.1412\n",
      "767/767 [==============================] - 1s 1ms/step\n",
      "128/128 [==============================] - 0s 1ms/step\n",
      "Epoch 1/8\n",
      "192/192 [==============================] - 37s 187ms/step - loss: 0.2594 - val_loss: 0.1524\n",
      "Epoch 2/8\n",
      "192/192 [==============================] - 38s 198ms/step - loss: 0.1380 - val_loss: 0.1278\n",
      "Epoch 3/8\n",
      "192/192 [==============================] - 36s 190ms/step - loss: 0.1250 - val_loss: 0.1203\n",
      "Epoch 4/8\n",
      "192/192 [==============================] - 46s 239ms/step - loss: 0.1193 - val_loss: 0.1167\n",
      "Epoch 5/8\n",
      "192/192 [==============================] - 40s 209ms/step - loss: 0.1163 - val_loss: 0.1143\n",
      "Epoch 6/8\n",
      "192/192 [==============================] - 39s 203ms/step - loss: 0.1142 - val_loss: 0.1127\n",
      "Epoch 7/8\n",
      "192/192 [==============================] - 35s 183ms/step - loss: 0.1128 - val_loss: 0.1115\n",
      "Epoch 8/8\n",
      "192/192 [==============================] - 39s 202ms/step - loss: 0.1115 - val_loss: 0.1103\n",
      "767/767 [==============================] - 5s 6ms/step\n",
      "128/128 [==============================] - 1s 6ms/step\n"
     ]
    },
    {
     "name": "stderr",
     "output_type": "stream",
     "text": [
      "100%|██████████████████████████████████████████████████████████████████████████████████████████████████| 5/5 [1:56:13<00:00, 1394.79s/it]\n"
     ]
    },
    {
     "data": {
      "image/png": "[encoded data removed]",
      "text/plain": [
       "<Figure size 432x288 with 1 Axes>"
      ]
     },
     "metadata": {
      "needs_background": "light"
     },
     "output_type": "display_data"
    }
   ],
   "source": [
    "# COMPARISON BETWEEN TYPES OF METHODS FOR DIMENSIONALITY REDUCTION\n",
    "def reductionMethodAccuracy(iterations):\n",
    "    n_dim = 8\n",
    "    accuracyPCA = []\n",
    "    accuracyAE = []\n",
    "    accuracyAECNN = []\n",
    "\n",
    "    for _ in tqdm(range(iterations)):\n",
    "        train_X, train_y, test_X, test_y = data_loader.get_MNIST(n_dim, \"PCA\", [\n",
    "                                                                 1, 0, 6, 9])\n",
    "        quantum = quantumNC()\n",
    "        quantum.fit(train_X, train_y, n_dim)\n",
    "        accuracyPCA.append(_calc_accuracy(test_y, quantum.predict(test_X)))\n",
    "\n",
    "        train_X, train_y, test_X, test_y = data_loader.get_MNIST(n_dim, \"AE\", [\n",
    "                                                                 1, 0, 6, 9])\n",
    "        quantum = quantumNC()\n",
    "        quantum.fit(train_X, train_y, n_dim)\n",
    "        accuracyAE.append(_calc_accuracy(test_y, quantum.predict(test_X)))\n",
    "\n",
    "        train_X, train_y, test_X, test_y = data_loader.get_MNIST(n_dim, \"AE_CNN\", [\n",
    "                                                                 1, 0, 6, 9])\n",
    "        quantum = quantumNC()\n",
    "        quantum.fit(train_X, train_y, n_dim)\n",
    "        accuracyAECNN.append(_calc_accuracy(test_y, quantum.predict(test_X)))\n",
    "\n",
    "    variance_error_graph(\"./reduction_accuracy.png\",\n",
    "                         (\"PCA\", accuracyPCA), (\"AE\", accuracyAE), (\"AE CNN\", accuracyAECNN))\n",
    "reductionMethodAccuracy(5)"
   ]
  },
  {
   "cell_type": "code",
   "execution_count": null,
   "id": "a66716c0",
   "metadata": {},
   "outputs": [],
   "source": []
  }
 ],
 "metadata": {
  "kernelspec": {
   "display_name": "Python 3 (ipykernel)",
   "language": "python",
   "name": "python3"
  },
  "language_info": {
   "codemirror_mode": {
    "name": "ipython",
    "version": 3
   },
   "file_extension": ".py",
   "mimetype": "text/x-python",
   "name": "python",
   "nbconvert_exporter": "python",
   "pygments_lexer": "ipython3",
   "version": "3.9.12"
  }
 },
 "nbformat": 4,
 "nbformat_minor": 5
}
