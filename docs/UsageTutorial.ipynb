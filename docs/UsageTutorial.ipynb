{
 "cells": [
  {
   "cell_type": "code",
   "execution_count": null,
   "id": "a3b3c098",
   "metadata": {},
   "outputs": [],
   "source": [
    "import sys\n",
    "!{sys.executable} -m pip install quantum-image-classifier==0.1.11"
   ]
  },
  {
   "cell_type": "markdown",
   "id": "5e9fd4b1",
   "metadata": {},
   "source": [
    "# Quantum image classifier\n",
    "## Package usage\n",
    "\n",
    "If you want to use this package you can install it using `pip install quantum-image-classifier`, just as we did on the top of this notebook. After that, you can easily import it as any other package."
   ]
  },
  {
   "cell_type": "code",
   "execution_count": null,
   "id": "e058265e",
   "metadata": {},
   "outputs": [],
   "source": [
    "import quantum_image_classifier"
   ]
  },
  {
   "cell_type": "markdown",
   "id": "b33dc822",
   "metadata": {},
   "source": [
    "## Features\n",
    "In this package you can do two things: treat data to feed into the algorithm and call a quantum algorithm to classify the data. We see how in the next sections.\n",
    "\n",
    "### Data treatment\n",
    "You can obtain the data you want to test the algorithms in this section of the package. First of all, you can generate synthetic data by using the function `generate_synthetic_data` like we show you here."
   ]
  },
  {
   "cell_type": "code",
   "execution_count": null,
   "id": "c6dbee5e",
   "metadata": {},
   "outputs": [],
   "source": [
    "from quantum_image_classifier import data_generator as dg\n",
    "\n",
    "n_dim = 8\n",
    "n_clusters = 4\n",
    "n_samples = 250\n",
    "\n",
    "train_X_syn, train_y_syn, test_X_syn, test_y_syn = dg.generate_synthetic_data(n_dim, n_clusters, n_samples)"
   ]
  },
  {
   "cell_type": "markdown",
   "id": "7c407a4c",
   "metadata": {},
   "source": [
    "Other option is to use the MNIST dataset. To do this you need to be aware of a very important aspect of the nature of the quantum algorithms: **you can operate with a very limited number of qubits**. This means that, if you wish to classify an actual image, you need to preprocess it before applying the algorithms in order to reduce its dimensionality and be able to use the data (we recommend this to data with a dimension greater than 32). To do this to the MNIST dataset you can use one of the three options we give you:\n",
    "\n",
    "1. **Use PCA (PCA).** You can use PCA method to achieve a dimension reduction. The only problem this method has is that you have to assume a linear relationship between the input and the output, so, if there is a non-linear relationship, you can generate non-accurate data.\n",
    "2. **Use simple autoencoder (AE).** You can use a simple autoencoder in order to achieve a dimension reduction. This solves the non-linear cases, but increases the execution time, because you have to train a neural network.\n",
    "3. **Use autoencoder based on CNN (AE_CNN).** With this less simple implementation of the autoencoder you will achieve much more accuracy than with the simple autoencoder by trading time of execution and complexity.\n",
    "\n",
    "You have an example of how can you apply this preprocess to the data below, using the function `get_MNIST`."
   ]
  },
  {
   "cell_type": "code",
   "execution_count": null,
   "id": "b03e437e",
   "metadata": {},
   "outputs": [],
   "source": [
    "from quantum_image_classifier import data_loader as dl\n",
    "\n",
    "# It will take time to compute this operations.\n",
    "\n",
    "train_X_pca, train_y_pca, test_X_pca, test_y_pca = dl.get_MNIST(8, \"PCA\")\n",
    "print(\"PCA PREPROCESS\")\n",
    "print(train_X_pca[:10])\n",
    "\n",
    "train_X_ae, train_y_ae, test_X_ae, test_y_ae = dl.get_MNIST(8, \"AE\")\n",
    "print(\"SIMPLE AUTOENCODER PREPROCESS\")\n",
    "print(train_X_ae[:10])\n",
    "\n",
    "train_X_ae_cnn, train_y_ae_cnn, test_X_ae_cnn, test_y_ae_cnn = dl.get_MNIST(8, \"AE_CNN\")\n",
    "print(\"CNN AUTOENCODER PREPROCESS\")\n",
    "print(train_X_ae_cnn[:10])"
   ]
  },
  {
   "cell_type": "markdown",
   "id": "5c2a67b7",
   "metadata": {},
   "source": [
    "### Algorithms\n",
    "#### Nearest centroid algorithm\n",
    "In order to use this algorithm, first we need to instance the class NearestCentroid. We can instance this class in two ways: either by giving the training set as an argument (along with the dimension and the labels associated to this dataset) or empty. In the first way, we will need to send the dataset with the associated labels to the function `fit`."
   ]
  },
  {
   "cell_type": "code",
   "execution_count": null,
   "id": "33e6417d",
   "metadata": {},
   "outputs": [],
   "source": [
    "from quantum_image_classifier import NearestCentroid\n",
    "\n",
    "# Empty instance\n",
    "nearest_centroid = NearestCentroid()\n",
    "nearest_centroid.fit(train_X_syn, train_y_syn, n_dim)\n",
    "labels_predicted = nearest_centroid.predict(test_X_syn)\n",
    "\n",
    "print(test_y_syn)\n",
    "print(labels_predicted)"
   ]
  },
  {
   "cell_type": "markdown",
   "id": "0af1c4c4",
   "metadata": {},
   "source": [
    "On the contrary, if we have already given the dataset with its associated labels on the construction, we just need to call fit wthout arguments. By the way, if you call here `fit` with arguments, then you will override the data of the construction, naturally."
   ]
  },
  {
   "cell_type": "code",
   "execution_count": null,
   "id": "f698ecea",
   "metadata": {},
   "outputs": [],
   "source": [
    "# Instance with dataset and labels.\n",
    "nearest_centroid = NearestCentroid(train_X_syn, train_y_syn, n_dim)\n",
    "nearest_centroid.fit()\n",
    "labels_predicted = nearest_centroid.predict(test_X_syn)\n",
    "\n",
    "print(test_y_syn)\n",
    "print(labels_predicted)"
   ]
  }
 ],
 "metadata": {
  "kernelspec": {
   "display_name": "Python 3 (ipykernel)",
   "language": "python",
   "name": "python3"
  },
  "language_info": {
   "codemirror_mode": {
    "name": "ipython",
    "version": 3
   },
   "file_extension": ".py",
   "mimetype": "text/x-python",
   "name": "python",
   "nbconvert_exporter": "python",
   "pygments_lexer": "ipython3",
   "version": "3.10.3"
  }
 },
 "nbformat": 4,
 "nbformat_minor": 5
}
