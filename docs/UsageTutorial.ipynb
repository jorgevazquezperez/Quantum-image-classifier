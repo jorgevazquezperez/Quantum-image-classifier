{
 "cells": [
  {
   "cell_type": "code",
   "execution_count": 1,
   "id": "a3b3c098",
   "metadata": {},
   "outputs": [],
   "source": [
    "%%capture\n",
    "\n",
    "import sys\n",
    "!{sys.executable} -m pip install quantum-image-classifier"
   ]
  },
  {
   "cell_type": "markdown",
   "id": "5e9fd4b1",
   "metadata": {},
   "source": [
    "# Quantum image classifier\n",
    "## Package usage\n",
    "\n",
    "If you want to use this package, first you will need to download ir from https://github.com/jorgevazquezperez/Quantum-image-classifier. After that, you can import it and start using it as every other package."
   ]
  },
  {
   "cell_type": "code",
   "execution_count": 2,
   "id": "e058265e",
   "metadata": {},
   "outputs": [],
   "source": [
    "import quantum_image_classifier"
   ]
  },
  {
   "cell_type": "markdown",
   "id": "b33dc822",
   "metadata": {},
   "source": [
    "## Features\n",
    "Here we will explain the several options that this package offers, in order to generate a template which you could use to try it yourself.\n",
    "\n",
    "### Data treatment\n",
    "You can obtain the data you want to test the algorithms in this section of the package. First of all, you can generate synthetic data by using the function `generate_synthetic_data` like we show you here."
   ]
  },
  {
   "cell_type": "code",
   "execution_count": 3,
   "id": "c6dbee5e",
   "metadata": {},
   "outputs": [],
   "source": [
    "from quantum_image_classifier import data_generator as dg\n",
    "\n",
    "n_dim = 8\n",
    "n_clusters = 4\n",
    "n_samples = 250\n",
    "\n",
    "train_X, train_y, test_X, test_y = dg.generate_synthetic_data(n_dim, n_clusters, n_samples)"
   ]
  },
  {
   "cell_type": "markdown",
   "id": "7c407a4c",
   "metadata": {},
   "source": [
    "Other option is to use a dataset of your own. To do this you need to be aware of a very important aspect of the nature of the quantum algorithms: **you can operate with a very limited number of qubits**. This means that, if you wish to classify an actual image, you need to preprocess it before applying the algorithms in order to reduce its dimensionality and be able to use the data (we recommend this to data with a dimension greater than 32). To do this you can use one of the three options we give you:\n",
    "\n",
    "1. **Use PCA.** You can use PCA method to achieve a dimension reduction. The only problem this method has is that you have to assume a linear relationship between the input and the output, so, if there is a non-linear relationship, you can generate non-accurate data.\n",
    "2. **Use autoencoders (AE).** You can use autoencoders in order to achieve a dimension reduction. This solves the non-linear cases, but increases the execution time, because you have to train a neural network.\n",
    "3. **Input your own preprocess method.** If you don't to use our methods, it's OK (before that I got to ask you: are you sure?). You can insert a custom function which will preprocess the data. ***COMPLETAR***"
   ]
  },
  {
   "cell_type": "code",
   "execution_count": null,
   "id": "b03e437e",
   "metadata": {},
   "outputs": [],
   "source": []
  },
  {
   "cell_type": "markdown",
   "id": "5c2a67b7",
   "metadata": {},
   "source": [
    "## Algorithms\n",
    "### Nearest centroid algorithm"
   ]
  },
  {
   "cell_type": "code",
   "execution_count": 4,
   "id": "33e6417d",
   "metadata": {},
   "outputs": [
    {
     "name": "stdout",
     "output_type": "stream",
     "text": [
      "[3 1 3 2 2 2 2 1 1 3 2 3 2 1 1 2 1 2 2 3 0 1 1 3 0 1 0 2 1 2 3 0 3 1 1 2 1\n",
      " 1 0 3 2 1 0 3 0 3 0 3 0 3 0 0 1 2 0 1 2 2 0 1 2 2 0]\n",
      "[3 1 3 2 2 2 2 1 1 3 2 3 2 1 1 2 1 2 2 3 0 1 1 3 0 1 0 2 1 2 3 0 3 1 1 2 1\n",
      " 1 0 3 2 1 0 3 0 3 0 3 0 3 0 0 1 2 0 1 2 2 0 1 2 2 0]\n"
     ]
    }
   ],
   "source": [
    "from quantum_image_classifier import NearestCentroid\n",
    "\n",
    "nearest_centroid = NearestCentroid(train_X, train_y, n_dim)\n",
    "labels_predicted = nearest_centroid.predict(test_X)\n",
    "\n",
    "print(test_y)\n",
    "print(labels_predicted)"
   ]
  },
  {
   "cell_type": "code",
   "execution_count": null,
   "id": "21d1b330",
   "metadata": {},
   "outputs": [],
   "source": []
  },
  {
   "cell_type": "code",
   "execution_count": null,
   "id": "f698ecea",
   "metadata": {},
   "outputs": [],
   "source": []
  }
 ],
 "metadata": {
  "kernelspec": {
   "display_name": "Python 3 (ipykernel)",
   "language": "python",
   "name": "python3"
  },
  "language_info": {
   "codemirror_mode": {
    "name": "ipython",
    "version": 3
   },
   "file_extension": ".py",
   "mimetype": "text/x-python",
   "name": "python",
   "nbconvert_exporter": "python",
   "pygments_lexer": "ipython3",
   "version": "3.10.3"
  }
 },
 "nbformat": 4,
 "nbformat_minor": 5
}
