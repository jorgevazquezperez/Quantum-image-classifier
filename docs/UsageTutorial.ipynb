{
 "cells": [
  {
   "cell_type": "code",
   "execution_count": 1,
   "id": "a3b3c098",
   "metadata": {},
<<<<<<< HEAD
   "outputs": [],
   "source": [
    "%%capture\n",
    "\n",
    "import sys\n",
    "!{sys.executable} -m pip install quantum-image-classifier"
=======
   "outputs": [
    {
     "name": "stdout",
     "output_type": "stream",
     "text": [
      "Collecting git+https://github.com/jorgevazquezperez/Quantum-image-classifier.git\n",
      "  Cloning https://github.com/jorgevazquezperez/Quantum-image-classifier.git to c:\\users\\jorva\\appdata\\local\\temp\\pip-req-build-7w_n7ui8\n",
      "  Resolved https://github.com/jorgevazquezperez/Quantum-image-classifier.git to commit 519515a20b28ba2d870100b85fc3b170f3b8fd35\n",
      "  Preparing metadata (setup.py): started\n",
      "  Preparing metadata (setup.py): finished with status 'done'\n",
      "Requirement already satisfied: numpy>=1.22 in c:\\users\\jorva\\appdata\\local\\programs\\python\\python310\\lib\\site-packages (from quantum-image-classifier==0.1.0) (1.22.3)\n",
      "Requirement already satisfied: qiskit-terra>=0.20.0 in c:\\users\\jorva\\appdata\\local\\programs\\python\\python310\\lib\\site-packages (from quantum-image-classifier==0.1.0) (0.20.0)\n",
      "Requirement already satisfied: setuptools>=40.1.0 in c:\\users\\jorva\\appdata\\local\\programs\\python\\python310\\lib\\site-packages (from quantum-image-classifier==0.1.0) (58.1.0)\n",
      "Requirement already satisfied: sklearn in c:\\users\\jorva\\appdata\\local\\programs\\python\\python310\\lib\\site-packages (from quantum-image-classifier==0.1.0) (0.0)\n",
      "Requirement already satisfied: python-constraint>=1.4 in c:\\users\\jorva\\appdata\\local\\programs\\python\\python310\\lib\\site-packages (from qiskit-terra>=0.20.0->quantum-image-classifier==0.1.0) (1.4.0)\n",
      "Requirement already satisfied: retworkx>=0.11.0 in c:\\users\\jorva\\appdata\\local\\programs\\python\\python310\\lib\\site-packages (from qiskit-terra>=0.20.0->quantum-image-classifier==0.1.0) (0.11.0)\n",
      "Requirement already satisfied: stevedore>=3.0.0 in c:\\users\\jorva\\appdata\\local\\programs\\python\\python310\\lib\\site-packages (from qiskit-terra>=0.20.0->quantum-image-classifier==0.1.0) (3.5.0)\n",
      "Requirement already satisfied: ply>=3.10 in c:\\users\\jorva\\appdata\\local\\programs\\python\\python310\\lib\\site-packages (from qiskit-terra>=0.20.0->quantum-image-classifier==0.1.0) (3.11)\n",
      "Requirement already satisfied: scipy>=1.5 in c:\\users\\jorva\\appdata\\local\\programs\\python\\python310\\lib\\site-packages (from qiskit-terra>=0.20.0->quantum-image-classifier==0.1.0) (1.8.0)\n",
      "Requirement already satisfied: python-dateutil>=2.8.0 in c:\\users\\jorva\\appdata\\local\\programs\\python\\python310\\lib\\site-packages (from qiskit-terra>=0.20.0->quantum-image-classifier==0.1.0) (2.8.2)\n",
      "Requirement already satisfied: sympy>=1.3 in c:\\users\\jorva\\appdata\\local\\programs\\python\\python310\\lib\\site-packages (from qiskit-terra>=0.20.0->quantum-image-classifier==0.1.0) (1.9)\n",
      "Requirement already satisfied: tweedledum<2.0,>=1.1 in c:\\users\\jorva\\appdata\\local\\programs\\python\\python310\\lib\\site-packages (from qiskit-terra>=0.20.0->quantum-image-classifier==0.1.0) (1.1.1)\n",
      "Requirement already satisfied: psutil>=5 in c:\\users\\jorva\\appdata\\local\\programs\\python\\python310\\lib\\site-packages (from qiskit-terra>=0.20.0->quantum-image-classifier==0.1.0) (5.9.0)\n",
      "Requirement already satisfied: dill>=0.3 in c:\\users\\jorva\\appdata\\local\\programs\\python\\python310\\lib\\site-packages (from qiskit-terra>=0.20.0->quantum-image-classifier==0.1.0) (0.3.4)\n",
      "Requirement already satisfied: scikit-learn in c:\\users\\jorva\\appdata\\local\\programs\\python\\python310\\lib\\site-packages (from sklearn->quantum-image-classifier==0.1.0) (1.0.2)\n",
      "Requirement already satisfied: six>=1.5 in c:\\users\\jorva\\appdata\\local\\programs\\python\\python310\\lib\\site-packages (from python-dateutil>=2.8.0->qiskit-terra>=0.20.0->quantum-image-classifier==0.1.0) (1.16.0)\n",
      "Requirement already satisfied: pbr!=2.1.0,>=2.0.0 in c:\\users\\jorva\\appdata\\local\\programs\\python\\python310\\lib\\site-packages (from stevedore>=3.0.0->qiskit-terra>=0.20.0->quantum-image-classifier==0.1.0) (5.8.1)\n",
      "Requirement already satisfied: mpmath>=0.19 in c:\\users\\jorva\\appdata\\local\\programs\\python\\python310\\lib\\site-packages (from sympy>=1.3->qiskit-terra>=0.20.0->quantum-image-classifier==0.1.0) (1.2.1)\n",
      "Requirement already satisfied: joblib>=0.11 in c:\\users\\jorva\\appdata\\local\\programs\\python\\python310\\lib\\site-packages (from scikit-learn->sklearn->quantum-image-classifier==0.1.0) (1.1.0)\n",
      "Requirement already satisfied: threadpoolctl>=2.0.0 in c:\\users\\jorva\\appdata\\local\\programs\\python\\python310\\lib\\site-packages (from scikit-learn->sklearn->quantum-image-classifier==0.1.0) (3.1.0)\n"
     ]
    },
    {
     "name": "stderr",
     "output_type": "stream",
     "text": [
      "  Running command git clone --filter=blob:none --quiet https://github.com/jorgevazquezperez/Quantum-image-classifier.git 'C:\\Users\\jorva\\AppData\\Local\\Temp\\pip-req-build-7w_n7ui8'\n"
     ]
    }
   ],
   "source": [
    "import sys\n",
    "!{sys.executable} -m pip install git+https://github.com/jorgevazquezperez/Quantum-image-classifier.git"
   ]
  },
  {
   "cell_type": "code",
   "execution_count": 4,
   "id": "9b7828b6",
   "metadata": {},
   "outputs": [
    {
     "data": {
      "text/plain": [
       "[]"
      ]
     },
     "execution_count": 4,
     "metadata": {},
     "output_type": "execute_result"
    }
   ],
   "source": [
    "import pkgutil\n",
    "[name for _, name, _ in pkgutil.iter_modules(['quantum_image_classifier'])]"
>>>>>>> main
   ]
  },
  {
   "cell_type": "markdown",
   "id": "5e9fd4b1",
   "metadata": {},
   "source": [
    "# Quantum image classifier\n",
    "## Package usage\n",
    "\n",
    "If you want to use this package, first you will need to download ir from https://github.com/jorgevazquezperez/Quantum-image-classifier. After that, you can import it and start using it as every other package."
   ]
  },
  {
   "cell_type": "code",
   "execution_count": 2,
   "id": "e058265e",
   "metadata": {},
<<<<<<< HEAD
   "outputs": [],
=======
   "outputs": [
    {
     "ename": "ModuleNotFoundError",
     "evalue": "No module named 'quantum_image_classifier.classifier_algorithms'",
     "output_type": "error",
     "traceback": [
      "\u001b[1;31m---------------------------------------------------------------------------\u001b[0m",
      "\u001b[1;31mModuleNotFoundError\u001b[0m                       Traceback (most recent call last)",
      "Input \u001b[1;32mIn [2]\u001b[0m, in \u001b[0;36m<cell line: 1>\u001b[1;34m()\u001b[0m\n\u001b[1;32m----> 1\u001b[0m \u001b[38;5;28;01mimport\u001b[39;00m \u001b[38;5;21;01mquantum_image_classifier\u001b[39;00m\n",
      "File \u001b[1;32m~\\AppData\\Local\\Programs\\Python\\Python310\\lib\\site-packages\\quantum_image_classifier\\__init__.py:11\u001b[0m, in \u001b[0;36m<module>\u001b[1;34m\u001b[0m\n\u001b[0;32m      1\u001b[0m \u001b[38;5;124;03m\"\"\"\u001b[39;00m\n\u001b[0;32m      2\u001b[0m \u001b[38;5;124;03m=================================================================\u001b[39;00m\n\u001b[0;32m      3\u001b[0m \u001b[38;5;124;03mQuantum image classifier module (:mod:`quantum_image_classifier`)\u001b[39;00m\n\u001b[1;32m   (...)\u001b[0m\n\u001b[0;32m      8\u001b[0m \u001b[38;5;124;03mimplemented can be used with :mod:`~quantum_image_classifier.NAME_OF_THE_ALGORITHM`.\u001b[39;00m\n\u001b[0;32m      9\u001b[0m \u001b[38;5;124;03m\"\"\"\u001b[39;00m\n\u001b[1;32m---> 11\u001b[0m \u001b[38;5;28;01mfrom\u001b[39;00m \u001b[38;5;21;01m.\u001b[39;00m\u001b[38;5;21;01mclassifier_algorithms\u001b[39;00m \u001b[38;5;28;01mimport\u001b[39;00m NearestCentroid\n\u001b[0;32m     12\u001b[0m \u001b[38;5;28;01mfrom\u001b[39;00m \u001b[38;5;21;01m.\u001b[39;00m\u001b[38;5;21;01mdata_treatment\u001b[39;00m \u001b[38;5;28;01mimport\u001b[39;00m data_generator, data_loader\n\u001b[0;32m     13\u001b[0m \u001b[38;5;28;01mfrom\u001b[39;00m \u001b[38;5;21;01m.\u001b[39;00m\u001b[38;5;21;01mencoding\u001b[39;00m \u001b[38;5;28;01mimport\u001b[39;00m UnaryLoader\n",
      "\u001b[1;31mModuleNotFoundError\u001b[0m: No module named 'quantum_image_classifier.classifier_algorithms'"
     ]
    }
   ],
>>>>>>> main
   "source": [
    "import quantum_image_classifier"
   ]
  },
  {
   "cell_type": "markdown",
   "id": "b33dc822",
   "metadata": {},
   "source": [
    "## Features\n",
    "Here we will explain the several options that this package offers, in order to generate a template which you could use to try it yourself.\n",
    "\n",
    "### Data treatment\n",
    "You can obtain the data you want to test the algorithms in this section of the package. First of all, you can generate synthetic data by using the function `generate_synthetic_data` like we show you here."
   ]
  },
  {
   "cell_type": "code",
<<<<<<< HEAD
   "execution_count": 3,
=======
   "execution_count": null,
>>>>>>> main
   "id": "c6dbee5e",
   "metadata": {},
   "outputs": [],
   "source": [
    "from quantum_image_classifier import data_generator as dg\n",
    "\n",
<<<<<<< HEAD
    "n_dim = 8\n",
    "n_clusters = 4\n",
    "n_samples = 250\n",
    "\n",
    "train_X, train_y, test_X, test_y = dg.generate_synthetic_data(n_dim, n_clusters, n_samples)"
=======
    "train_X, train_y, test_X, test_y = data_generator.generate_synthetic_data(n_dim, n_clusters, n_samples)"
>>>>>>> main
   ]
  },
  {
   "cell_type": "markdown",
   "id": "7c407a4c",
   "metadata": {},
   "source": [
    "Other option is to use a dataset of your own. To do this you need to be aware of a very important aspect of the nature of the quantum algorithms: **you can operate with a very limited number of qubits**. This means that, if you wish to classify an actual image, you need to preprocess it before applying the algorithms in order to reduce its dimensionality and be able to use the data (we recommend this to data with a dimension greater than 32). To do this you can use one of the three options we give you:\n",
    "\n",
    "1. **Use PCA.** You can use PCA method to achieve a dimension reduction. The only problem this method has is that you have to assume a linear relationship between the input and the output, so, if there is a non-linear relationship, you can generate non-accurate data.\n",
    "2. **Use autoencoders (AE).** You can use autoencoders in order to achieve a dimension reduction. This solves the non-linear cases, but increases the execution time, because you have to train a neural network.\n",
    "3. **Input your own preprocess method.** If you don't to use our methods, it's OK (before that I got to ask you: are you sure?). You can insert a custom function which will preprocess the data. ***COMPLETAR***"
   ]
  },
  {
   "cell_type": "code",
   "execution_count": null,
   "id": "b03e437e",
   "metadata": {},
   "outputs": [],
   "source": []
<<<<<<< HEAD
  },
  {
   "cell_type": "markdown",
   "id": "5c2a67b7",
   "metadata": {},
   "source": [
    "## Algorithms\n",
    "### Nearest centroid algorithm"
   ]
  },
  {
   "cell_type": "code",
   "execution_count": 4,
   "id": "33e6417d",
   "metadata": {},
   "outputs": [
    {
     "name": "stdout",
     "output_type": "stream",
     "text": [
      "[3 1 3 2 2 2 2 1 1 3 2 3 2 1 1 2 1 2 2 3 0 1 1 3 0 1 0 2 1 2 3 0 3 1 1 2 1\n",
      " 1 0 3 2 1 0 3 0 3 0 3 0 3 0 0 1 2 0 1 2 2 0 1 2 2 0]\n",
      "[3 1 3 2 2 2 2 1 1 3 2 3 2 1 1 2 1 2 2 3 0 1 1 3 0 1 0 2 1 2 3 0 3 1 1 2 1\n",
      " 1 0 3 2 1 0 3 0 3 0 3 0 3 0 0 1 2 0 1 2 2 0 1 2 2 0]\n"
     ]
    }
   ],
   "source": [
    "from quantum_image_classifier import NearestCentroid\n",
    "\n",
    "nearest_centroid = NearestCentroid(train_X, train_y, n_dim)\n",
    "labels_predicted = nearest_centroid.predict(test_X)\n",
    "\n",
    "print(test_y)\n",
    "print(labels_predicted)"
   ]
  },
  {
   "cell_type": "code",
   "execution_count": null,
   "id": "21d1b330",
   "metadata": {},
   "outputs": [],
   "source": []
  },
  {
   "cell_type": "code",
   "execution_count": null,
   "id": "f698ecea",
   "metadata": {},
   "outputs": [],
   "source": []
=======
>>>>>>> main
  }
 ],
 "metadata": {
  "kernelspec": {
   "display_name": "Python 3 (ipykernel)",
   "language": "python",
   "name": "python3"
  },
  "language_info": {
   "codemirror_mode": {
    "name": "ipython",
    "version": 3
   },
   "file_extension": ".py",
   "mimetype": "text/x-python",
   "name": "python",
   "nbconvert_exporter": "python",
   "pygments_lexer": "ipython3",
   "version": "3.10.3"
  }
 },
 "nbformat": 4,
 "nbformat_minor": 5
}
